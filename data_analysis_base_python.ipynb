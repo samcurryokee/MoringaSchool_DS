{
 "cells": [
  {
   "cell_type": "code",
   "execution_count": 31,
   "metadata": {},
   "outputs": [
    {
     "name": "stdout",
     "output_type": "stream",
     "text": [
      "green\n",
      "red\n",
      "orange\n"
     ]
    }
   ],
   "source": [
    "info_table = [\n",
    "  {\"color\": \"green\", \"number\": 7},\n",
    "  {\"color\": \"red\", \"number\": 2},\n",
    "  {\"color\":\"orange\", \"number\":1}\n",
    "]\n",
    "type(info_table)\n",
    "\n",
    "for row in info_table:\n",
    "  print(row[\"color\"])\n",
    "\n",
    "# color_list = [row[\"color\"] for row in info_table]\n",
    "# color_list\n",
    "\n",
    "  \n"
   ]
  },
  {
   "cell_type": "markdown",
   "metadata": {},
   "source": [
    "## list comprehension with for loop"
   ]
  },
  {
   "cell_type": "code",
   "execution_count": 16,
   "metadata": {},
   "outputs": [
    {
     "data": {
      "text/plain": [
       "[8, 14, 16]"
      ]
     },
     "execution_count": 16,
     "metadata": {},
     "output_type": "execute_result"
    }
   ],
   "source": [
    "data = [4,1,7,2,3,8]\n",
    "data\n",
    "\n",
    "large_vals =[x for x in data if x > 3]\n",
    "large_vals\n",
    "\n",
    "# double_vals = []\n",
    "# for x in data:\n",
    "#   if x > 3:\n",
    "#     double_vals.append(x*2)\n",
    "# double_vals\n",
    "\n",
    "double_vals_list_comp = [2*x for x in data if x > 3]\n",
    "\n",
    "double_vals_list_comp\n"
   ]
  },
  {
   "cell_type": "markdown",
   "metadata": {},
   "source": [
    "## Dictionary Construction with for loop"
   ]
  },
  {
   "cell_type": "code",
   "execution_count": 22,
   "metadata": {},
   "outputs": [],
   "source": [
    "indices, data  = [2,4,6], [11,8,15]\n",
    "\n",
    "zipped = zip(indices,data)\n"
   ]
  },
  {
   "cell_type": "code",
   "execution_count": 23,
   "metadata": {},
   "outputs": [
    {
     "data": {
      "text/plain": [
       "{2: 11, 4: 8, 6: 15}"
      ]
     },
     "execution_count": 23,
     "metadata": {},
     "output_type": "execute_result"
    }
   ],
   "source": [
    "paired = {}\n",
    "\n",
    "for x ,y in zipped:\n",
    "  paired[x] = y\n",
    "paired"
   ]
  },
  {
   "cell_type": "code",
   "execution_count": 25,
   "metadata": {},
   "outputs": [
    {
     "data": {
      "text/plain": [
       "{2: 11, 4: 8, 6: 15}"
      ]
     },
     "execution_count": 25,
     "metadata": {},
     "output_type": "execute_result"
    }
   ],
   "source": [
    "# using dictionary comprehension\n",
    "zipped = zip(indices,data)\n",
    "\n",
    "paired_dict_comp = {x:y for x ,y in zipped}\n",
    "paired_dict_comp"
   ]
  },
  {
   "cell_type": "markdown",
   "metadata": {},
   "source": [
    "## Transforming Keys and Values with a for loop"
   ]
  },
  {
   "cell_type": "code",
   "execution_count": 26,
   "metadata": {},
   "outputs": [
    {
     "data": {
      "text/plain": [
       "{1: 33, 2: 24, 3: 45}"
      ]
     },
     "execution_count": 26,
     "metadata": {},
     "output_type": "execute_result"
    }
   ],
   "source": [
    "zipped = zip(indices,data)\n",
    "\n",
    "transformed = {}\n",
    "\n",
    "for x,y in zipped:\n",
    "  transformed[x//2] = 3*y\n",
    "  \n",
    "transformed"
   ]
  },
  {
   "cell_type": "code",
   "execution_count": 27,
   "metadata": {},
   "outputs": [
    {
     "data": {
      "text/plain": [
       "{1: 33, 2: 24, 3: 45}"
      ]
     },
     "execution_count": 27,
     "metadata": {},
     "output_type": "execute_result"
    }
   ],
   "source": [
    "zipped = zip(indices,data)\n",
    "\n",
    "transformed_dict_comp = {x//2:3*y for x , y in zipped }\n",
    "transformed_dict_comp"
   ]
  },
  {
   "cell_type": "markdown",
   "metadata": {},
   "source": [
    "## File Input and Output in Python"
   ]
  },
  {
   "cell_type": "code",
   "execution_count": 40,
   "metadata": {},
   "outputs": [
    {
     "data": {
      "text/plain": [
       "['# MoringaSchool_DS\\n',\n",
       " 'All my code and some labs and notes in Moringa Data SCience Course\\n']"
      ]
     },
     "execution_count": 40,
     "metadata": {},
     "output_type": "execute_result"
    }
   ],
   "source": [
    "# reading the files in pytho\n",
    "# file_obj = open(\"README.md\")\n",
    "# file_contents = file_obj.readlines()\n",
    "# file_obj.close()\n",
    "\n",
    "with open(\"README.md\") as file_obj:\n",
    "  file_contents =file_obj.readlines()\n",
    " \n",
    "file_contents \n",
    "\n"
   ]
  },
  {
   "cell_type": "code",
   "execution_count": 41,
   "metadata": {},
   "outputs": [
    {
     "data": {
      "text/plain": [
       "[' moringaschool_ds\\n',\n",
       " 'all my code and some labs and notes in moringa data science course\\n']"
      ]
     },
     "execution_count": 41,
     "metadata": {},
     "output_type": "execute_result"
    }
   ],
   "source": [
    "import string\n",
    "\n",
    "file_contents_cleaned = []\n",
    "for line in file_contents:\n",
    "    words = line.split()\n",
    "    cleaned_words = [word.strip(string.punctuation).lower() for word in words]\n",
    "    cleaned_line = \" \".join(cleaned_words) + \"\\n\"\n",
    "    file_contents_cleaned.append(cleaned_line)\n",
    "file_contents_cleaned"
   ]
  },
  {
   "cell_type": "markdown",
   "metadata": {},
   "source": [
    "# CSV\n"
   ]
  },
  {
   "cell_type": "code",
   "execution_count": 44,
   "metadata": {},
   "outputs": [
    {
     "name": "stdout",
     "output_type": "stream",
     "text": [
      "13.1,13.59,13.44\n",
      "13.93,13.85,13.47\n",
      "14.12,14.41,13.89\n",
      "14.42,13.55,13.43\n"
     ]
    }
   ],
   "source": [
    "track_times = [\n",
    "    [13.10, 13.59, 13.44],\n",
    "    [13.93, 13.85, 13.47],\n",
    "    [14.12, 14.41, 13.89],\n",
    "    [14.42, 13.55, 13.43]\n",
    "]\n",
    "\n",
    "\n",
    "#we need to serialize the data in some way i.e convert the python object into structured format for storage\n",
    "\n",
    "track_times_csv = \"\"\n",
    "\n",
    "for index , athlete_times in enumerate(track_times):\n",
    "   # Join together the values in the nested list using a comma as a separator\n",
    "   athlete_times_string =\",\".join([str(time) for time in athlete_times]) \n",
    "   # append the values to the overal string\n",
    "   track_times_csv += athlete_times_string\n",
    "   #append newline ,unless this is the last row\n",
    "   if index < (len(track_times) - 1):\n",
    "       track_times_csv += \"\\n\"\n",
    "       \n",
    "print(track_times_csv)\n"
   ]
  },
  {
   "cell_type": "code",
   "execution_count": 45,
   "metadata": {},
   "outputs": [],
   "source": [
    "# write the above csv in a file\n",
    "with open(\"track_times.csv\",\"w\") as f:\n",
    "  f.write(track_times_csv)"
   ]
  },
  {
   "cell_type": "code",
   "execution_count": 52,
   "metadata": {},
   "outputs": [
    {
     "name": "stdout",
     "output_type": "stream",
     "text": [
      "13.1,13.59,13.44\n",
      "13.93,13.85,13.47\n",
      "14.12,14.41,13.89\n",
      "14.42,13.55,13.43\n"
     ]
    }
   ],
   "source": [
    "with open(\"track_times.csv\") as f:\n",
    "  track_times_csv_from_disk = f.read()\n",
    "print(track_times_csv_from_disk)\n"
   ]
  },
  {
   "cell_type": "code",
   "execution_count": 57,
   "metadata": {},
   "outputs": [
    {
     "data": {
      "text/plain": [
       "[[13.1, 13.59, 13.44],\n",
       " [13.93, 13.85, 13.47],\n",
       " [14.12, 14.41, 13.89],\n",
       " [14.42, 13.55, 13.43]]"
      ]
     },
     "execution_count": 57,
     "metadata": {},
     "output_type": "execute_result"
    }
   ],
   "source": [
    "#now creating a list  from the data\n",
    "\n",
    "track_times_from_disk = []\n",
    "for row in track_times_csv_from_disk.split(\"\\n\"):\n",
    "  times = [float(time) for time in row.split(\",\")]\n",
    "  track_times_from_disk.append(times)\n",
    "  \n",
    "\n",
    "track_times_from_disk"
   ]
  },
  {
   "cell_type": "code",
   "execution_count": 58,
   "metadata": {},
   "outputs": [
    {
     "data": {
      "text/plain": [
       "True"
      ]
     },
     "execution_count": 58,
     "metadata": {},
     "output_type": "execute_result"
    }
   ],
   "source": [
    "track_times_from_disk == track_times"
   ]
  },
  {
   "cell_type": "markdown",
   "metadata": {},
   "source": [
    " in general you don't actually need to serialize and deserialize your data \"by hand\" like that. Instead, there is a module built in to Python called csv that can do the same thing using fewer lines of code!"
   ]
  },
  {
   "cell_type": "code",
   "execution_count": 59,
   "metadata": {},
   "outputs": [],
   "source": [
    "import csv"
   ]
  },
  {
   "cell_type": "markdown",
   "metadata": {},
   "source": [
    "## csv.reader"
   ]
  },
  {
   "cell_type": "code",
   "execution_count": 61,
   "metadata": {},
   "outputs": [
    {
     "data": {
      "text/plain": [
       "[[13.1, 13.59, 13.44],\n",
       " [13.93, 13.85, 13.47],\n",
       " [14.12, 14.41, 13.89],\n",
       " [14.42, 13.55, 13.43]]"
      ]
     },
     "execution_count": 61,
     "metadata": {},
     "output_type": "execute_result"
    }
   ],
   "source": [
    "with open(\"track_times.csv\") as f:\n",
    "  reader = csv.reader(f,quoting=csv.QUOTE_NONNUMERIC)\n",
    "  #get all the data from the reader using a list\n",
    "  track_times_with_csv_module = list(reader)\n",
    "  \n",
    "track_times_with_csv_module"
   ]
  },
  {
   "cell_type": "code",
   "execution_count": 67,
   "metadata": {},
   "outputs": [
    {
     "data": {
      "text/plain": [
       "'7623841316'"
      ]
     },
     "execution_count": 67,
     "metadata": {},
     "output_type": "execute_result"
    }
   ],
   "source": [
    "phone_numbers= [{\"type\": \"home\", \"number\": \"7383627627\" },{\"type\": \"mobile\",\n",
    "\"number\": \"7623841316\"}]\n",
    "\n",
    "phone_numbers[1][\"number\"]"
   ]
  }
 ],
 "metadata": {
  "kernelspec": {
   "display_name": "Python 3",
   "language": "python",
   "name": "python3"
  },
  "language_info": {
   "codemirror_mode": {
    "name": "ipython",
    "version": 3
   },
   "file_extension": ".py",
   "mimetype": "text/x-python",
   "name": "python",
   "nbconvert_exporter": "python",
   "pygments_lexer": "ipython3",
   "version": "3.11.5"
  },
  "orig_nbformat": 4
 },
 "nbformat": 4,
 "nbformat_minor": 2
}
