{
 "cells": [
  {
   "cell_type": "markdown",
   "metadata": {},
   "source": [
    "Assigning Variables"
   ]
  },
  {
   "cell_type": "code",
   "execution_count": 5,
   "metadata": {},
   "outputs": [
    {
     "name": "stdout",
     "output_type": "stream",
     "text": [
      "My full name is Sammy Kariuki Kimani and I am 23 years old\n"
     ]
    }
   ],
   "source": [
    "Full_name = \"Sammy Kariuki Kimani\"\n",
    "age = 23\n",
    "print( \"My full name is \" +Full_name + \" and I am \"+ str(age) + \" years old\")\n"
   ]
  },
  {
   "cell_type": "markdown",
   "metadata": {},
   "source": [
    "String Variables"
   ]
  },
  {
   "cell_type": "code",
   "execution_count": 6,
   "metadata": {},
   "outputs": [
    {
     "data": {
      "text/plain": [
       "'this is where i will be seek to achieve my career'"
      ]
     },
     "execution_count": 6,
     "metadata": {},
     "output_type": "execute_result"
    }
   ],
   "source": [
    "type(\"Error\")\n",
    "#built in methods to change data\n",
    "upper_case = \"This is a uppercase string\".upper()\n",
    "upper_case\n",
    "\n",
    "upper_case.endswith(\"STRING\")  #This function is case sensitive so be careful with it\n",
    "\n",
    "\n",
    "#to capitalize only the first letter in a sentence i.e sentence case use capitalize()\n",
    "sentence = \"this is where i will be able to achieve my career\"\n",
    "sentence.capitalize()\n",
    "\n",
    "#to capitalize the all the letters of a sentence use the title function\n",
    "sentence.title()\n",
    "sentence.replace(\"able\", \"seek\")\n",
    "\n"
   ]
  },
  {
   "cell_type": "code",
   "execution_count": 19,
   "metadata": {},
   "outputs": [
    {
     "data": {
      "text/plain": [
       "'I will not be travelling for 22 weeks which will start in January'"
      ]
     },
     "execution_count": 19,
     "metadata": {},
     "output_type": "execute_result"
    }
   ],
   "source": [
    "#Concatenating of strings and integers\n",
    "number_of_weeks = 22\n",
    "travelling_month= \"January\"\n",
    "# using f strings\n",
    "phrase = f\"I will be travelling for {number_of_weeks} weeks which will start in {travelling_month}\"\n",
    "phrase\n",
    "\n",
    "phrase_2 = \"I will not be travelling for {t1} weeks which will not be on {t2}\".format(t1= number_of_weeks,t2=travelling_month)\n",
    "phrase_2\n",
    "\n",
    "# using the string concatenation you cannot add strings and integers!!!!\n",
    "phrase_3 = \"I will not be travelling for \"+str(number_of_weeks)+ \" weeks which will start in \"+ travelling_month\n",
    "phrase_3"
   ]
  },
  {
   "cell_type": "markdown",
   "metadata": {},
   "source": [
    "Control Flows"
   ]
  },
  {
   "cell_type": "code",
   "execution_count": 38,
   "metadata": {},
   "outputs": [
    {
     "data": {
      "text/plain": [
       "'Goodbye'"
      ]
     },
     "execution_count": 38,
     "metadata": {},
     "output_type": "execute_result"
    }
   ],
   "source": [
    "vacation_days = 1\n",
    "goals_met = False\n",
    "if goals_met:\n",
    "    # if block starts    \n",
    "    # code does not run since conditional argument is False\n",
    "    vacation_days += 1\n",
    "    print(\"vacation_days = \", vacation_days)\n",
    "    print(\"we incremented vacation days\")\n",
    "# if block ends    \n",
    "else:\n",
    "    # else block starts\n",
    "    print(\"vacation_days = \", vacation_days)\n",
    "    print(\"we did NOT increment vacation days\")\n",
    "# else block ends\n",
    "\n",
    "#Truthiness which only works for numbers greater than 0 the increaement that is \n",
    "vacation_days = 0\n",
    "if vacation_days:\n",
    "  vacation_days += 1\n",
    "vacation_days\n",
    "\n",
    "# in this case the empty list and strings as trated as false values hence the else is running\n",
    "greeting= \"\"\n",
    "if greeting:\n",
    "  greeting += \"Hello\"\n",
    "else:\n",
    "  greeting += \"Goodbye\"\n",
    "  \n",
    "greeting\n",
    "  \n"
   ]
  },
  {
   "cell_type": "code",
   "execution_count": 43,
   "metadata": {},
   "outputs": [
    {
     "name": "stdout",
     "output_type": "stream",
     "text": [
      "#Average\n"
     ]
    }
   ],
   "source": [
    "number_of_days = 3\n",
    "if number_of_days > 5:\n",
    "  print(\"#Distruptive\")\n",
    "elif number_of_days <3:\n",
    "  print(\"#Minimal\")\n",
    "else:\n",
    "  print(\"#Average\")"
   ]
  },
  {
   "cell_type": "markdown",
   "metadata": {},
   "source": [
    "LISTS IN PYTHON\n"
   ]
  },
  {
   "cell_type": "code",
   "execution_count": 15,
   "metadata": {},
   "outputs": [
    {
     "data": {
      "text/plain": [
       "['Buenos Aires', 'Los Cabos', 'Marakesh', 'Toronto']"
      ]
     },
     "execution_count": 15,
     "metadata": {},
     "output_type": "execute_result"
    }
   ],
   "source": [
    "#lists are represented by []\n",
    "cities=[\"Solta\", \"Greenville\",\"Buenos Aires\", \"Los Cabos\",\"Marakesh\",\"Toronto\"]\n",
    "\n",
    "#Accessing the elements in a list \n",
    "cities[-4:]\n",
    "# type(cities)\n",
    "# cities\n",
    "\n",
    "#Accessing multiple elements in a list\n",
    "# cities[1:2]\n",
    "\n",
    "#appending the list which means to add a new element to a list but it can add the same element twice so its destructive\n",
    "# cities.append(\"San Antonio\")\n",
    "\n",
    "# # cities.pop()\n",
    "# # cities\n",
    "# #replacing the values in a list \n",
    "# cities[-1] = \"Nairobi\"\n",
    "# cities"
   ]
  },
  {
   "cell_type": "code",
   "execution_count": 38,
   "metadata": {},
   "outputs": [
    {
     "data": {
      "text/plain": [
       "7"
      ]
     },
     "execution_count": 38,
     "metadata": {},
     "output_type": "execute_result"
    }
   ],
   "source": [
    "#Finding Unique elements in a list\n",
    "cities.append(\"Solta\")\n",
    "cities\n",
    "\n",
    "unique_cities = set(cities)\n",
    "unique_cities\n",
    "type(unique_cities)\n",
    "\n",
    "\n",
    "#converting the set into a list\n",
    "unique_cities= list(unique_cities)\n",
    "\n",
    "unique_cities\n",
    "len(unique_cities)"
   ]
  },
  {
   "cell_type": "markdown",
   "metadata": {},
   "source": [
    "Working with Dictionaries"
   ]
  },
  {
   "cell_type": "code",
   "execution_count": 70,
   "metadata": {},
   "outputs": [
    {
     "data": {
      "text/plain": [
       "'Jerry Seinfeld'"
      ]
     },
     "execution_count": 70,
     "metadata": {},
     "output_type": "execute_result"
    }
   ],
   "source": [
    "#Dictionaries are collections in python wiht key value pairs\n",
    "\n",
    "friends = {\"name\":\"Friends\",\"genre\":\"sitcom\",\"no_of_seasons\":10}\n",
    "friends\n",
    "\n",
    "#accessing values in the dictionary using the key\n",
    "friends[\"no_of_seasons\"] \n",
    "\n",
    "#assigning the keys of a dictionary to variable\n",
    "keys = list(friends.keys())\n",
    "keys\n",
    "\n",
    "# assigning the values\n",
    "values = list(friends.values())\n",
    "values\n",
    "\n",
    "#adding/assigning more key value pairs in dictionaries\n",
    "friends[\"no_of_episodes\"] = 236\n",
    "friends\n",
    "\n",
    "friends[14]=\"some value\"\n",
    "friends[14]\n",
    "\n",
    "#removing keys\n",
    "del friends[14]\n",
    "friends\n",
    "\n",
    "#Dictionaries with lists\n",
    "friends[\"creators\"]=[\"David Crane\", \"Marta Kauffman\"]\n",
    "friends\n",
    "#accessing the values in a list in a dictionary\n",
    "friends[\"creators\"][0]\n",
    "\n",
    "seinfeld ={\"name\":\"Seinfeld\",\"creators\":[\"Larry David\",\"Jerry Seinfeld\"],\"genre\":\"sitcom\",\"no_of_seasons\":10,\"no_of_episodes\":\"180\"}\n",
    "seinfeld\n",
    "\n",
    "tv_shows =[friends,seinfeld]\n",
    "tv_shows\n",
    "#Accessing values in data structures\n",
    "tv_shows[1][\"creators\"][1]\n"
   ]
  },
  {
   "cell_type": "markdown",
   "metadata": {},
   "source": [
    "## Looping over collections"
   ]
  },
  {
   "cell_type": "code",
   "execution_count": 3,
   "metadata": {},
   "outputs": [
    {
     "name": "stdout",
     "output_type": "stream",
     "text": [
      "0\n",
      "1\n",
      "2\n",
      "3\n",
      "this is iteration:  3\n",
      "0\n",
      "this is iteration:  4\n",
      "1\n",
      "this is iteration:  5\n",
      "2\n",
      "this is iteration:  6\n",
      "3\n",
      "The for loop is finished now! I am not in the loop block which is why i only printed this once\n"
     ]
    }
   ],
   "source": [
    "#example\n",
    "zero_to_three = [0,1,2,3]\n",
    "\n",
    "for i in zero_to_three:\n",
    "  print(i)\n",
    "  \n",
    "iteration_count = 2\n",
    "\n",
    "for i in zero_to_three:\n",
    "  iteration_count +=1\n",
    "  print(\"this is iteration: \",iteration_count)\n",
    "  print(i)\n",
    "  \n",
    "print(\"The for loop is finished now! I am not in the loop block which is why i only printed this once\")\n"
   ]
  },
  {
   "cell_type": "code",
   "execution_count": 10,
   "metadata": {},
   "outputs": [
    {
     "name": "stdout",
     "output_type": "stream",
     "text": [
      "0\n",
      "Croatia\n",
      "1\n",
      "USA\n",
      "2\n",
      "Argentina\n",
      "3\n",
      "France\n",
      "4\n",
      "Brazil\n",
      "5\n",
      "Japan\n",
      "6\n",
      "Vietnam\n",
      "Zagreb, Croatia\n",
      "District of Columbia, USA\n",
      "Buenos Aires, Argentina\n",
      "Paris, France\n",
      "Rio de Janeiro, Brazil\n",
      "Tokyo, Japan\n",
      "Hanoi, Vietnam\n",
      "Zagreb, Croatia\n",
      "District of Columbia, USA\n",
      "Buenos Aires, Argentina\n",
      "Paris, France\n",
      "Rio de Janeiro, Brazil\n",
      "Tokyo, Japan\n",
      "Hanoi, Vietnam\n"
     ]
    }
   ],
   "source": [
    "#Using list elements as Indices\n",
    "\n",
    "countries = [\"Croatia\", \"USA\", \"Argentina\",\"France\",\"Brazil\", \"Japan\",\"Vietnam\"]\n",
    "\n",
    "for index in range(7) :\n",
    "  print(index)\n",
    "  print(countries[index])\n",
    "  \n",
    "cities = [\"Zagreb\",\"District of Columbia\", \"Buenos Aires\",\"Paris\",\"Rio de Janeiro\",\"Tokyo\",\"Hanoi\"]\n",
    "\n",
    "for index in range(7):\n",
    "  print(cities[index]+\",\", countries[index])  #This does not work when the indexes do not match\n",
    "len(cities)\n",
    "\n",
    "#The code above can also be written \n",
    "for index in list(range(0,len(countries))):\n",
    "  print(cities[index]+\",\", countries[index])\n",
    "  \n",
    "  "
   ]
  },
  {
   "cell_type": "code",
   "execution_count": 11,
   "metadata": {},
   "outputs": [
    {
     "name": "stdout",
     "output_type": "stream",
     "text": [
      "Zagreb, Croatia\n",
      "District of Columbia, USA\n",
      "Buenos Aires, Argentina\n",
      "Paris, France\n",
      "Rio de Janeiro, Brazil\n",
      "Tokyo, Japan\n",
      "Hanoi, Vietnam\n",
      "Mexico City, Mexico\n"
     ]
    }
   ],
   "source": [
    "countries.append(\"Mexico\"),cities.append(\"Mexico City\")\n",
    "for index in list(range(0,len(countries))):\n",
    "  print(cities[index]+\",\",countries[index])"
   ]
  },
  {
   "cell_type": "code",
   "execution_count": 22,
   "metadata": {},
   "outputs": [
    {
     "name": "stdout",
     "output_type": "stream",
     "text": [
      "A String\n",
      "['a', 'list', 'of', 5, ['elements']]\n",
      "{'this': 'is a dictionary'}\n",
      "dict_items([('first_name', 'Terrance'), ('last_name', 'KOAR'), ('favourite_language', 'Python')])\n",
      "this is the key  first_name\n",
      "this is the value  Terrance \n",
      "\n",
      "this is the key  last_name\n",
      "this is the value  KOAR \n",
      "\n",
      "this is the key  favourite_language\n",
      "this is the value  Python \n",
      "\n"
     ]
    }
   ],
   "source": [
    "#Iterating through different datatypes\n",
    "\n",
    "different_elements = [\"A String\",[\"a\",\"list\",\"of\",5,[\"elements\"]],{\"this\":\"is a dictionary\"}]\n",
    "for element in different_elements:\n",
    "  print(element)\n",
    "  \n",
    "  #iterating through dictionaries\n",
    "example_dictionary = {\"first_name\":\"Terrance\",\"last_name\":\"KOAR\",\"favourite_language\":\"Python\"}\n",
    "print(example_dictionary.items())\n",
    "\n",
    "for key,value in example_dictionary.items():\n",
    "  print(\"this is the key \",key)\n",
    "  print(\"this is the value \",value, \"\\n\")  #the key and value are placeholders\n",
    "  "
   ]
  },
  {
   "cell_type": "code",
   "execution_count": 24,
   "metadata": {},
   "outputs": [
    {
     "name": "stdout",
     "output_type": "stream",
     "text": [
      "Terrance Koar\n"
     ]
    }
   ],
   "source": [
    "first_name =\"\"\n",
    "last_name = \"\"\n",
    "\n",
    "for key ,value in example_dictionary.items():\n",
    "  if key ==\"last_name\":\n",
    "    last_name = value.title()\n",
    "  elif key == \"first_name\":\n",
    "    first_name =value\n",
    "print(first_name,last_name)   \n",
    "\n",
    "\n"
   ]
  },
  {
   "cell_type": "markdown",
   "metadata": {},
   "source": [
    "## While Loops,Break and Continue\n",
    "\n",
    "A while loop is just that; a loop! Similar to a for loop, except there is no need for a collection to iterate over. Instead, a while loop uses a condition to know when to stop executing.\n",
    "While loops are fairly straight forward. We use them in instances where we have a condition that serves as the point at which we want a process to stop"
   ]
  },
  {
   "cell_type": "code",
   "execution_count": 27,
   "metadata": {},
   "outputs": [
    {
     "name": "stdout",
     "output_type": "stream",
     "text": [
      "4\n",
      "3\n",
      "2\n",
      "1\n",
      "The stop_number reached  0 so the while loop's condition became False and stopped execution\n"
     ]
    }
   ],
   "source": [
    "stop_number = 4\n",
    "while stop_number > 0:\n",
    "  print(stop_number)\n",
    "  stop_number -=1\n",
    "print(\"The stop_number reached \",stop_number,\"so the while loop's condition became False and stopped execution\")\n",
    "  "
   ]
  },
  {
   "cell_type": "code",
   "execution_count": 30,
   "metadata": {},
   "outputs": [
    {
     "name": "stdout",
     "output_type": "stream",
     "text": [
      "----[sips water]----\n",
      "ah, that was refreshing\n",
      "hydration is now at 10 % \n",
      "\n",
      "----[sips water]----\n",
      "ah, that was refreshing\n",
      "hydration is now at 20 % \n",
      "\n",
      "----[sips water]----\n",
      "ah, that was refreshing\n",
      "hydration is now at 30 % \n",
      "\n",
      "----[sips water]----\n",
      "ah, that was refreshing\n",
      "hydration is now at 40 % \n",
      "\n",
      "----[sips water]----\n",
      "ah, that was refreshing\n",
      "hydration is now at 50 % \n",
      "\n",
      "----[sips water]----\n",
      "ah, that was refreshing\n",
      "hydration is now at 60 % \n",
      "\n",
      "----[sips water]----\n",
      "ah, that was refreshing\n",
      "hydration is now at 70 % \n",
      "\n",
      "----[sips water]----\n",
      "ah, that was refreshing\n",
      "hydration is now at 80 % \n",
      "\n",
      "----[sips water]----\n",
      "ah, that was refreshing\n",
      "hydration is now at 90 % \n",
      "\n",
      "----[sips water]----\n",
      "ah, that was refreshing\n",
      "hydration is now at 100 % \n",
      "\n"
     ]
    }
   ],
   "source": [
    "#example\n",
    "hydration = 0 \n",
    "water = 1\n",
    "\n",
    "while hydration < 100 and water > 0:\n",
    "  print(\"----[sips water]----\")\n",
    "  water -=.1\n",
    "  print(\"ah, that was refreshing\")\n",
    "  hydration +=10\n",
    "  print(\"hydration is now at\",hydration, \"% \\n\")"
   ]
  },
  {
   "cell_type": "code",
   "execution_count": 35,
   "metadata": {},
   "outputs": [
    {
     "name": "stdout",
     "output_type": "stream",
     "text": [
      "0 is even.\n",
      "this does not print for odd numbers\n",
      "because the continue satement skips\n",
      "the codethat follows in the for loop\n",
      "and goes straight back to the next element in the for loop\n",
      "2 is even.\n",
      "this does not print for odd numbers\n",
      "because the continue satement skips\n",
      "the codethat follows in the for loop\n",
      "and goes straight back to the next element in the for loop\n",
      "4 is even.\n",
      "this does not print for odd numbers\n",
      "because the continue satement skips\n",
      "the codethat follows in the for loop\n",
      "and goes straight back to the next element in the for loop\n",
      "6 is even.\n",
      "this does not print for odd numbers\n",
      "because the continue satement skips\n",
      "the codethat follows in the for loop\n",
      "and goes straight back to the next element in the for loop\n",
      "8 is even.\n",
      "this does not print for odd numbers\n",
      "because the continue satement skips\n",
      "the codethat follows in the for loop\n",
      "and goes straight back to the next element in the for loop\n",
      "WE have enough even numbers in new_list ({len(new_list)}). break will stop the dor loop now\n"
     ]
    }
   ],
   "source": [
    "#Example of break and continue statements\n",
    "numbers = list(range(0,30))\n",
    "new_list =[]\n",
    "\n",
    "for num in numbers:\n",
    "  if len(new_list) > 4:\n",
    "    print(\"WE have enough even numbers in new_list ({len(new_list)}). break will stop the dor loop now\")\n",
    "    break\n",
    "  elif num % 2 == 0:\n",
    "    new_list.append(num)\n",
    "  elif num % 2!=0:\n",
    "    continue\n",
    "    print(\"I never get executed\")\n",
    "  print(num ,\"is even.\")\n",
    "  print(\"this does not print for odd numbers\\nbecause the continue satement skips\\nthe codethat follows in the for loop\\nand goes straight back to the next element in the for loop\")"
   ]
  },
  {
   "cell_type": "code",
   "execution_count": 36,
   "metadata": {},
   "outputs": [
    {
     "name": "stdout",
     "output_type": "stream",
     "text": [
      "0\n",
      "Since we don't have a continue statement,\n",
      "I'll always get executed\n",
      "1\n",
      "Since we don't have a continue statement,\n",
      "I'll always get executed\n",
      "2\n",
      "Since we don't have a continue statement,\n",
      "I'll always get executed\n",
      "3\n",
      "Since we don't have a continue statement,\n",
      "I'll always get executed\n",
      "4\n",
      "Since we don't have a continue statement,\n",
      "I'll always get executed\n"
     ]
    }
   ],
   "source": [
    "for i in list(range(0,5)):\n",
    "  if True:\n",
    "    print(i)\n",
    "  print(\"Since we don't have a continue statement,\\nI'll always get executed\")"
   ]
  },
  {
   "cell_type": "code",
   "execution_count": 49,
   "metadata": {},
   "outputs": [
    {
     "name": "stdout",
     "output_type": "stream",
     "text": [
      "before ['aNNE', 'JaNe', 'willIAM', 'WanDA', 'WeSt', 'HELEN', 'tHoMaS', 'HENrY', 'John', 'Marshall', 'May']\n",
      "after ['Anne', 'Jane', 'Helen', 'Thomas']\n",
      "4\n"
     ]
    }
   ],
   "source": [
    "names = ['aNNE', 'JaNe', 'willIAM', 'WanDA', 'WeSt', 'HELEN', 'tHoMaS', 'HENrY', 'John', 'Marshall', 'May']\n",
    "formatted_names = []\n",
    "check_count = 0\n",
    "\n",
    "for name in names:\n",
    "    if name.startswith('w') or name.startswith('W'):\n",
    "        check_count += 1\n",
    "        continue\n",
    "    elif len(formatted_names) >= 4:\n",
    "        check_count += 1\n",
    "        break\n",
    "    else:\n",
    "        formatted_names.append(name.title())\n",
    "        \n",
    "# for name in names:\n",
    "#     if len(formatted_names) < 4:\n",
    "#         check_count += 1\n",
    "#         if not (name.startswith('w') or name.startswith('W')):\n",
    "#             check_count += 1\n",
    "#             formatted_names.append(name.title())\n",
    "            \n",
    "\n",
    "print('before', names)\n",
    "print('after', formatted_names)\n",
    "print(check_count)"
   ]
  },
  {
   "cell_type": "code",
   "execution_count": 50,
   "metadata": {},
   "outputs": [
    {
     "name": "stdout",
     "output_type": "stream",
     "text": [
      "Cooking another pancake!\n",
      "Now cooked 1 pancakes!\n",
      "Time remaining for breakfast: 1404 seconds\n",
      "Cooking another pancake!\n",
      "Now cooked 2 pancakes!\n",
      "Time remaining for breakfast: 1340 seconds\n",
      "Cooking another pancake!\n",
      "Now cooked 3 pancakes!\n",
      "Time remaining for breakfast: 1276 seconds\n",
      "Cooking another pancake!\n",
      "Now cooked 4 pancakes!\n",
      "Time remaining for breakfast: 1212 seconds\n",
      "Cooking another pancake!\n",
      "Now cooked 5 pancakes!\n",
      "Time remaining for breakfast: 1148 seconds\n"
     ]
    }
   ],
   "source": [
    "time_for_breakfast = 1468 # in seconds\n",
    "number_of_cooked_pancakes = 0\n",
    "time_per_pancake = 27 * 2 + 5 * 2\n",
    "\n",
    "while number_of_cooked_pancakes < 5 and time_for_breakfast >= time_per_pancake:\n",
    "    print('Cooking another pancake!')\n",
    "    number_of_cooked_pancakes += 1\n",
    "    time_for_breakfast -= time_per_pancake\n",
    "    print('Now cooked {} pancakes!'.format(number_of_cooked_pancakes))\n",
    "    print('Time remaining for breakfast: {} seconds'.format(time_for_breakfast))\n"
   ]
  },
  {
   "cell_type": "markdown",
   "metadata": {},
   "source": [
    "## Using Nested Loops"
   ]
  },
  {
   "cell_type": "code",
   "execution_count": null,
   "metadata": {},
   "outputs": [],
   "source": [
    "#nested lists\n",
    "\n",
    "list_of_lists = [[1,2,3],[2,4,6,8],[11,22,33,44]]\n",
    "\n",
    "dict_nested_list = {\"name\":\"example\", \"colors\":[\"blue\",\"green\",\"yellow\",\"red\"]}\n"
   ]
  },
  {
   "cell_type": "code",
   "execution_count": 1,
   "metadata": {},
   "outputs": [
    {
     "name": "stdout",
     "output_type": "stream",
     "text": [
      "This is iteration **1** of OUTER loop\n",
      "    this is iteration of ONE of the INNER loop\n",
      "    this is iteration of TWO of the INNER loop\n",
      "    this is iteration of THREE of the INNER loop\n",
      "\n",
      "\n",
      "This is iteration **2** of OUTER loop\n",
      "    this is iteration of ONE of the INNER loop\n",
      "    this is iteration of TWO of the INNER loop\n",
      "    this is iteration of THREE of the INNER loop\n",
      "\n",
      "\n",
      "This is iteration **3** of OUTER loop\n",
      "    this is iteration of ONE of the INNER loop\n",
      "    this is iteration of TWO of the INNER loop\n",
      "    this is iteration of THREE of the INNER loop\n",
      "\n",
      "\n"
     ]
    }
   ],
   "source": [
    "#example\n",
    "outer_numbers = [1,2,3]\n",
    "inner_words = [\"ONE\",\"TWO\",\"THREE\"]\n",
    "for number in outer_numbers:\n",
    "  print(f\"This is iteration **{number}** of OUTER loop\")\n",
    "  for word in inner_words:\n",
    "    print(f\"    this is iteration of {word} of the INNER loop\")\n",
    "  print(\"\\n\")"
   ]
  },
  {
   "cell_type": "code",
   "execution_count": 3,
   "metadata": {},
   "outputs": [
    {
     "name": "stdout",
     "output_type": "stream",
     "text": [
      "outer iteration: 1\n",
      "   inner iteration:  1\n",
      "   inner iteration:  2\n",
      "   inner iteration:  3\n",
      "\n",
      "\n",
      "outer iteration: 2\n",
      "   inner iteration:  1\n",
      "   inner iteration:  2\n",
      "   inner iteration:  3\n",
      "\n",
      "\n",
      "outer iteration: 3\n",
      "   inner iteration:  1\n",
      "   inner iteration:  2\n",
      "   inner iteration:  3\n",
      "\n",
      "\n"
     ]
    }
   ],
   "source": [
    "outer = 0\n",
    "inner = 0\n",
    "\n",
    "while outer < 3:\n",
    "  outer += 1\n",
    "  print(\"outer iteration:\" , outer)\n",
    "  while inner <3:\n",
    "    inner +=1\n",
    "    print(\"   inner iteration: \", inner)\n",
    "  inner =0\n",
    "  print(\"\\n\")\n",
    "  "
   ]
  },
  {
   "cell_type": "code",
   "execution_count": 11,
   "metadata": {},
   "outputs": [
    {
     "name": "stdout",
     "output_type": "stream",
     "text": [
      "Ruby\n",
      "JavaScript\n",
      "SQL\n",
      "Java\n",
      "JavaScript\n",
      "Elixir\n",
      "Python\n",
      "C#\n",
      "CoffeeScript\n",
      "R\n",
      "C++\n",
      "PHP\n",
      "Swift\n"
     ]
    },
    {
     "data": {
      "text/plain": [
       "['rachel', 'daniel', 'greg', 'meryl']"
      ]
     },
     "execution_count": 11,
     "metadata": {},
     "output_type": "execute_result"
    }
   ],
   "source": [
    "#use case of a nested loop\n",
    "\n",
    "programmers = [{'name': \"rachel\", 'favorite_languages': ['Ruby', 'JavaScript', 'SQL', \"Java\"]},{'name': \"daniel\", 'favorite_languages': ['JavaScript', 'Elixir', 'Python']},{'name': \"greg\", 'favorite_languages': ['C#', 'CoffeeScript', 'R']},{'name': \"meryl\", 'favorite_languages': ['C++', 'PHP', 'Swift']}]\n",
    "\n",
    "for programmer in programmers:\n",
    "  for language in programmer[\"favorite_languages\"]:\n",
    "    print (language)\n",
    "  \n",
    "names =[]\n",
    "for programmer in programmers:\n",
    "  names.append(programmer[\"name\"])\n",
    "  \n",
    "  player_with_highest_num = None\n",
    "largest_shirt_number = 0\n",
    "\n",
    "\n",
    "  \n",
    "names\n"
   ]
  },
  {
   "cell_type": "markdown",
   "metadata": {},
   "source": [
    "## Creating Functions"
   ]
  },
  {
   "cell_type": "code",
   "execution_count": 4,
   "metadata": {},
   "outputs": [
    {
     "data": {
      "text/plain": [
       "['Hi Jim, I am so glad to be working with you!',\n",
       " 'Hi Tracy, I am so glad to be working with you!',\n",
       " 'Hi Lisa, I am so glad to be working with you!']"
      ]
     },
     "execution_count": 4,
     "metadata": {},
     "output_type": "execute_result"
    }
   ],
   "source": [
    "new_employees = [\"jim\", \"tracy\",\"lisa\"]\n",
    "\n",
    "#send them each welcome messages\n",
    "\n",
    "welcome_messages = []\n",
    "\n",
    "for new_employee in new_employees:\n",
    "  welcome_messages.append(f\"Hi {new_employee.title()}, I am so glad to be working with you!\")\n",
    "  \n",
    "welcome_messages"
   ]
  },
  {
   "cell_type": "code",
   "execution_count": 8,
   "metadata": {},
   "outputs": [
    {
     "data": {
      "text/plain": [
       "['Hi Sam, I am so glad to be working with you!',\n",
       " 'Hi Kariuki, I am so glad to be working with you!',\n",
       " 'Hi Kimani, I am so glad to be working with you!']"
      ]
     },
     "execution_count": 8,
     "metadata": {},
     "output_type": "execute_result"
    }
   ],
   "source": [
    "# above code is good but not reusable if there are changes in the data\n",
    "#use def to define and create a function\n",
    "\n",
    "def greet_employees():\n",
    "  welcome_messages = []\n",
    "  for new_employee in new_employees:\n",
    "    welcome_messages.append(f\"Hi {new_employee.title()}, I am so glad to be working with you!\")\n",
    "  return welcome_messages\n",
    "\n",
    "greet_employees()\n",
    "\n",
    "new_employees = [\"sam\",\"karIuki\",\"kimani\"]\n",
    "greet_employees()"
   ]
  },
  {
   "cell_type": "code",
   "execution_count": null,
   "metadata": {},
   "outputs": [],
   "source": [
    "capitalized_destinations = ['argentina', 'mexico', 'italy', 'finland', 'canada', 'croatia']\n",
    "# define function here\n",
    "\n",
    "def capitalize_countries():\n",
    "    capitalized_countries = []\n",
    "    for capitalized_destination in capitalized_destinations:\n",
    "        capitalized_countries.append(capitalized_destination.title())\n",
    "    return capitalized_countries\n"
   ]
  },
  {
   "cell_type": "markdown",
   "metadata": {},
   "source": [
    "## Functions with Arguments"
   ]
  },
  {
   "cell_type": "code",
   "execution_count": 9,
   "metadata": {},
   "outputs": [
    {
     "data": {
      "text/plain": [
       "5.5"
      ]
     },
     "execution_count": 9,
     "metadata": {},
     "output_type": "execute_result"
    }
   ],
   "source": [
    "#functions with arguments are more precise and targeted\n",
    "\n",
    "def find_the_mean(list_nums):\n",
    "  length = len(list_nums)\n",
    "  total = sum(list_nums)\n",
    "  return total/length\n",
    "\n",
    "find_the_mean([1,2,3,4,5,6,7,8,9,10])"
   ]
  },
  {
   "cell_type": "code",
   "execution_count": 13,
   "metadata": {},
   "outputs": [
    {
     "data": {
      "text/plain": [
       "'The second list , [43845, 54930, 59354, 96403, 73492, 729320] has a larger mean population'"
      ]
     },
     "execution_count": 13,
     "metadata": {},
     "output_type": "execute_result"
    }
   ],
   "source": [
    "area_one_pops = [10453, 12383, 8034, 800835, 76434, 32394]\n",
    "find_the_mean(area_one_pops)\n",
    "\n",
    "area_two_pops = [43845, 54930, 59354, 96403, 73492, 729320]\n",
    "find_the_mean(area_two_pops)\n",
    "\n",
    "#to find which area has the largest mean\n",
    "\n",
    "def largest_mean(list1,list2):\n",
    "  mean_one = find_the_mean(list1)\n",
    "  mean_two = find_the_mean(list2)\n",
    "  \n",
    "  if mean_one > mean_two:\n",
    "    return (f\"The first list, {list1} has a larger mean population\")\n",
    "  else:\n",
    "    return (f\"The second list , {list2} has a larger mean population\")\n",
    "\n",
    "\n",
    "largest_mean(area_one_pops,area_two_pops)"
   ]
  },
  {
   "cell_type": "code",
   "execution_count": null,
   "metadata": {},
   "outputs": [],
   "source": []
  },
  {
   "cell_type": "markdown",
   "metadata": {},
   "source": [
    "## User Input and  Output"
   ]
  },
  {
   "cell_type": "code",
   "execution_count": 2,
   "metadata": {},
   "outputs": [
    {
     "name": "stdout",
     "output_type": "stream",
     "text": [
      "Your names is SAMMY\n",
      "You are 2233 years old\n"
     ]
    }
   ],
   "source": [
    "name = input(\"Give me your name: \")\n",
    "print(f\"Your names is {name}\")\n",
    "\n",
    "age = input(\"enter your age: \")\n",
    "age = int(age)\n",
    "\n",
    "print(f\"You are {age} years old\")\n",
    "\n",
    "\n",
    "  # do not use only one type of quotes in this case mix  them to show the difference\n",
    "  \n",
    "  def get_review_summary(review):\n",
    "    return (f\"{review['review_title']} : This was a {review_sentiment(review)} review written by {review['reviewer_name']} in {review_year(review)}\")\n",
    "\n"
   ]
  }
 ],
 "metadata": {
  "kernelspec": {
   "display_name": "Python 3",
   "language": "python",
   "name": "python3"
  },
  "language_info": {
   "codemirror_mode": {
    "name": "ipython",
    "version": 3
   },
   "file_extension": ".py",
   "mimetype": "text/x-python",
   "name": "python",
   "nbconvert_exporter": "python",
   "pygments_lexer": "ipython3",
   "version": "3.10.12"
  },
  "orig_nbformat": 4
 },
 "nbformat": 4,
 "nbformat_minor": 2
}
