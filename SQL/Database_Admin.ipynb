{
 "cells": [
  {
   "cell_type": "markdown",
   "metadata": {},
   "source": [
    "# Database Admin 101"
   ]
  },
  {
   "cell_type": "code",
   "execution_count": 1,
   "metadata": {},
   "outputs": [],
   "source": [
    "import sqlite3 \n",
    "conn = sqlite3.connect('new1_pets_database.db')\n",
    "cur = conn.cursor()"
   ]
  },
  {
   "cell_type": "code",
   "execution_count": 2,
   "metadata": {},
   "outputs": [
    {
     "name": "stdout",
     "output_type": "stream",
     "text": [
      " Volume in drive C is OS\n",
      " Volume Serial Number is 3056-74D8\n",
      "\n",
      " Directory of c:\\Users\\samka\\MoringaSchool_DS\\SQL\n",
      "\n",
      "05/09/2023  00:44    <DIR>          .\n",
      "04/09/2023  16:00    <DIR>          ..\n",
      "04/09/2023  16:01           229,376 data.sqlite\n",
      "05/09/2023  00:44             8,461 Database_Admin.ipynb\n",
      "04/09/2023  20:06            50,488 Filtering_data.ipynb\n",
      "04/09/2023  22:36            36,236 grouping.ipynb\n",
      "04/09/2023  23:05                 0 my_database.db\n",
      "04/09/2023  22:57             8,192 new_pets_database.db\n",
      "04/09/2023  22:59             4,616 new_pets_database.db-journal\n",
      "05/09/2023  00:44                 0 new1_pets_database.db\n",
      "04/09/2023  22:02            97,786 ordering_and_limitingData.ipynb\n",
      "04/09/2023  20:01            12,288 pets_database.db\n",
      "04/09/2023  19:04            76,174 selecting.ipynb\n",
      "              11 File(s)        523,617 bytes\n",
      "               2 Dir(s)  42,396,876,800 bytes free\n"
     ]
    }
   ],
   "source": [
    "ls\n"
   ]
  },
  {
   "cell_type": "markdown",
   "metadata": {},
   "source": [
    "### Creating tables"
   ]
  },
  {
   "cell_type": "code",
   "execution_count": 3,
   "metadata": {},
   "outputs": [
    {
     "data": {
      "text/plain": [
       "<sqlite3.Cursor at 0x266de96f730>"
      ]
     },
     "execution_count": 3,
     "metadata": {},
     "output_type": "execute_result"
    }
   ],
   "source": [
    "# creating the cats table\n",
    "cur.execute(\"\"\"CREATE TABLE cats(\n",
    "                                  id INTEGER PRIMARY KEY,\n",
    "                                  name TEXT,\n",
    "                                  age INTEGER,\n",
    "                                  breed TEXT);\n",
    "            \"\"\")"
   ]
  },
  {
   "cell_type": "markdown",
   "metadata": {},
   "source": [
    "### Populating Tables\n",
    "\n",
    "Here we use the `INSERT INTO`"
   ]
  },
  {
   "cell_type": "code",
   "execution_count": 4,
   "metadata": {},
   "outputs": [
    {
     "data": {
      "text/plain": [
       "<sqlite3.Cursor at 0x266de96f730>"
      ]
     },
     "execution_count": 4,
     "metadata": {},
     "output_type": "execute_result"
    }
   ],
   "source": [
    "cur.execute(\"\"\"INSERT INTO cats (name,age,breed)\n",
    "                VALUES (\"Bosco\",3,\"Scottish Fold\");\n",
    "            \"\"\")\n",
    "\n"
   ]
  },
  {
   "cell_type": "markdown",
   "metadata": {},
   "source": [
    "### Altering  a Table"
   ]
  },
  {
   "cell_type": "code",
   "execution_count": 6,
   "metadata": {},
   "outputs": [
    {
     "data": {
      "text/plain": [
       "<sqlite3.Cursor at 0x266de96f730>"
      ]
     },
     "execution_count": 6,
     "metadata": {},
     "output_type": "execute_result"
    }
   ],
   "source": [
    "#updating hannah values \n",
    "\n",
    "cur.execute('''UPDATE cats SET name = \"Hana\" WHERE name = \"Hannah\";''')"
   ]
  },
  {
   "cell_type": "markdown",
   "metadata": {},
   "source": [
    "### DELETE"
   ]
  },
  {
   "cell_type": "code",
   "execution_count": 7,
   "metadata": {},
   "outputs": [
    {
     "data": {
      "text/plain": [
       "<sqlite3.Cursor at 0x266de96f730>"
      ]
     },
     "execution_count": 7,
     "metadata": {},
     "output_type": "execute_result"
    }
   ],
   "source": [
    "cur.execute('''DELETE FROM cats WHERE id = 2;''')"
   ]
  },
  {
   "cell_type": "code",
   "execution_count": 8,
   "metadata": {},
   "outputs": [
    {
     "data": {
      "text/plain": [
       "[(1, 'Bosco', 3, 'Scottish Fold')]"
      ]
     },
     "execution_count": 8,
     "metadata": {},
     "output_type": "execute_result"
    }
   ],
   "source": [
    "#Preview the table via the current cursor/connection\n",
    "cur.execute(\"\"\"SELECT * FROM cats;\"\"\").fetchall()"
   ]
  },
  {
   "cell_type": "code",
   "execution_count": 9,
   "metadata": {},
   "outputs": [
    {
     "data": {
      "text/plain": [
       "[(1, 'Maru', 3, 'Scottish Fold', 1),\n",
       " (2, 'Hana', 1, 'Tabby', 1),\n",
       " (3, \"Lil' Bub\", 5, 'American Shorthair', None),\n",
       " (4, 'Moe', 10, 'Tabby', None),\n",
       " (5, 'Patches', 2, 'Calico', None),\n",
       " (6, None, None, 'Tabby', None)]"
      ]
     },
     "execution_count": 9,
     "metadata": {},
     "output_type": "execute_result"
    }
   ],
   "source": [
    "conn2 = sqlite3.connect('pets_database.db')\n",
    "cur2 = conn2.cursor()\n",
    "cur2.execute(\"\"\"SELECT * FROM cats;\"\"\").fetchall()"
   ]
  },
  {
   "cell_type": "code",
   "execution_count": 10,
   "metadata": {},
   "outputs": [],
   "source": [
    "conn.commit()"
   ]
  },
  {
   "cell_type": "code",
   "execution_count": 11,
   "metadata": {},
   "outputs": [
    {
     "data": {
      "text/plain": [
       "[(1, 'Bosco', 3, 'Scottish Fold')]"
      ]
     },
     "execution_count": 11,
     "metadata": {},
     "output_type": "execute_result"
    }
   ],
   "source": [
    "conn2 = sqlite3.connect('new1_pets_database.db')\n",
    "cur2 = conn2.cursor()\n",
    "cur2.execute(\"\"\"SELECT * FROM cats;\"\"\").fetchall()"
   ]
  },
  {
   "cell_type": "code",
   "execution_count": 12,
   "metadata": {},
   "outputs": [],
   "source": [
    "cur.close()"
   ]
  },
  {
   "cell_type": "code",
   "execution_count": 13,
   "metadata": {},
   "outputs": [],
   "source": [
    "conn.close()"
   ]
  }
 ],
 "metadata": {
  "kernelspec": {
   "display_name": "learn-env",
   "language": "python",
   "name": "python3"
  },
  "language_info": {
   "codemirror_mode": {
    "name": "ipython",
    "version": 3
   },
   "file_extension": ".py",
   "mimetype": "text/x-python",
   "name": "python",
   "nbconvert_exporter": "python",
   "pygments_lexer": "ipython3",
   "version": "3.8.5"
  },
  "orig_nbformat": 4
 },
 "nbformat": 4,
 "nbformat_minor": 2
}
