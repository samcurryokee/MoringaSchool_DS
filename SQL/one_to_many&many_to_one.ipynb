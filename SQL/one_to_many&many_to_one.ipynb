{
 "cells": [
  {
   "cell_type": "markdown",
   "metadata": {},
   "source": [
    "# One-to-Many and Many-to-Many Joins"
   ]
  },
  {
   "cell_type": "code",
   "execution_count": 1,
   "metadata": {},
   "outputs": [],
   "source": [
    "import sqlite3\n",
    "import pandas as pd\n",
    "\n",
    "conn = sqlite3.connect(\"data.sqlite\")"
   ]
  },
  {
   "cell_type": "markdown",
   "metadata": {},
   "source": [
    "## One to One Relationships"
   ]
  },
  {
   "cell_type": "code",
   "execution_count": 4,
   "metadata": {},
   "outputs": [
    {
     "name": "stdout",
     "output_type": "stream",
     "text": [
      "Number of results : 17\n"
     ]
    }
   ],
   "source": [
    "q = \"\"\"--sql\n",
    "SELECT firstName,LastName ,email\n",
    "FROM employees \n",
    "WHERE jobtitle = \"Sales Rep\";\n",
    "\"\"\"\n",
    "\n",
    "df = pd.read_sql(q,conn)\n",
    "print(\"Number of results :\", len(df))"
   ]
  },
  {
   "cell_type": "code",
   "execution_count": 5,
   "metadata": {},
   "outputs": [
    {
     "data": {
      "text/html": [
       "<div>\n",
       "<style scoped>\n",
       "    .dataframe tbody tr th:only-of-type {\n",
       "        vertical-align: middle;\n",
       "    }\n",
       "\n",
       "    .dataframe tbody tr th {\n",
       "        vertical-align: top;\n",
       "    }\n",
       "\n",
       "    .dataframe thead th {\n",
       "        text-align: right;\n",
       "    }\n",
       "</style>\n",
       "<table border=\"1\" class=\"dataframe\">\n",
       "  <thead>\n",
       "    <tr style=\"text-align: right;\">\n",
       "      <th></th>\n",
       "      <th>firstName</th>\n",
       "      <th>lastName</th>\n",
       "      <th>email</th>\n",
       "    </tr>\n",
       "  </thead>\n",
       "  <tbody>\n",
       "    <tr>\n",
       "      <th>0</th>\n",
       "      <td>Leslie</td>\n",
       "      <td>Jennings</td>\n",
       "      <td>ljennings@classicmodelcars.com</td>\n",
       "    </tr>\n",
       "    <tr>\n",
       "      <th>1</th>\n",
       "      <td>Leslie</td>\n",
       "      <td>Thompson</td>\n",
       "      <td>lthompson@classicmodelcars.com</td>\n",
       "    </tr>\n",
       "    <tr>\n",
       "      <th>2</th>\n",
       "      <td>Julie</td>\n",
       "      <td>Firrelli</td>\n",
       "      <td>jfirrelli@classicmodelcars.com</td>\n",
       "    </tr>\n",
       "    <tr>\n",
       "      <th>3</th>\n",
       "      <td>Steve</td>\n",
       "      <td>Patterson</td>\n",
       "      <td>spatterson@classicmodelcars.com</td>\n",
       "    </tr>\n",
       "    <tr>\n",
       "      <th>4</th>\n",
       "      <td>Foon Yue</td>\n",
       "      <td>Tseng</td>\n",
       "      <td>ftseng@classicmodelcars.com</td>\n",
       "    </tr>\n",
       "  </tbody>\n",
       "</table>\n",
       "</div>"
      ],
      "text/plain": [
       "  firstName   lastName                            email\n",
       "0    Leslie   Jennings   ljennings@classicmodelcars.com\n",
       "1    Leslie   Thompson   lthompson@classicmodelcars.com\n",
       "2     Julie   Firrelli   jfirrelli@classicmodelcars.com\n",
       "3     Steve  Patterson  spatterson@classicmodelcars.com\n",
       "4  Foon Yue      Tseng      ftseng@classicmodelcars.com"
      ]
     },
     "execution_count": 5,
     "metadata": {},
     "output_type": "execute_result"
    }
   ],
   "source": [
    "df.head()"
   ]
  },
  {
   "cell_type": "markdown",
   "metadata": {},
   "source": [
    "### Cities For Sales rep Employees"
   ]
  },
  {
   "cell_type": "code",
   "execution_count": 9,
   "metadata": {},
   "outputs": [
    {
     "name": "stdout",
     "output_type": "stream",
     "text": [
      "Number of results: 17\n"
     ]
    }
   ],
   "source": [
    "q = \"\"\"\n",
    "SELECT firstName, lastName ,email,city\n",
    "FROM employees\n",
    "JOIN offices\n",
    "    USING(officeCode)\n",
    "  WHERE jobtitle = \"Sales Rep\";\n",
    "\"\"\"\n",
    "df = pd.read_sql(q,conn)\n",
    "print(\"Number of results:\", len(df))"
   ]
  },
  {
   "cell_type": "code",
   "execution_count": 10,
   "metadata": {},
   "outputs": [
    {
     "data": {
      "text/html": [
       "<div>\n",
       "<style scoped>\n",
       "    .dataframe tbody tr th:only-of-type {\n",
       "        vertical-align: middle;\n",
       "    }\n",
       "\n",
       "    .dataframe tbody tr th {\n",
       "        vertical-align: top;\n",
       "    }\n",
       "\n",
       "    .dataframe thead th {\n",
       "        text-align: right;\n",
       "    }\n",
       "</style>\n",
       "<table border=\"1\" class=\"dataframe\">\n",
       "  <thead>\n",
       "    <tr style=\"text-align: right;\">\n",
       "      <th></th>\n",
       "      <th>firstName</th>\n",
       "      <th>lastName</th>\n",
       "      <th>email</th>\n",
       "      <th>city</th>\n",
       "    </tr>\n",
       "  </thead>\n",
       "  <tbody>\n",
       "    <tr>\n",
       "      <th>0</th>\n",
       "      <td>Leslie</td>\n",
       "      <td>Jennings</td>\n",
       "      <td>ljennings@classicmodelcars.com</td>\n",
       "      <td>San Francisco</td>\n",
       "    </tr>\n",
       "    <tr>\n",
       "      <th>1</th>\n",
       "      <td>Leslie</td>\n",
       "      <td>Thompson</td>\n",
       "      <td>lthompson@classicmodelcars.com</td>\n",
       "      <td>San Francisco</td>\n",
       "    </tr>\n",
       "    <tr>\n",
       "      <th>2</th>\n",
       "      <td>Julie</td>\n",
       "      <td>Firrelli</td>\n",
       "      <td>jfirrelli@classicmodelcars.com</td>\n",
       "      <td>Boston</td>\n",
       "    </tr>\n",
       "    <tr>\n",
       "      <th>3</th>\n",
       "      <td>Steve</td>\n",
       "      <td>Patterson</td>\n",
       "      <td>spatterson@classicmodelcars.com</td>\n",
       "      <td>Boston</td>\n",
       "    </tr>\n",
       "    <tr>\n",
       "      <th>4</th>\n",
       "      <td>Foon Yue</td>\n",
       "      <td>Tseng</td>\n",
       "      <td>ftseng@classicmodelcars.com</td>\n",
       "      <td>NYC</td>\n",
       "    </tr>\n",
       "  </tbody>\n",
       "</table>\n",
       "</div>"
      ],
      "text/plain": [
       "  firstName   lastName                            email           city\n",
       "0    Leslie   Jennings   ljennings@classicmodelcars.com  San Francisco\n",
       "1    Leslie   Thompson   lthompson@classicmodelcars.com  San Francisco\n",
       "2     Julie   Firrelli   jfirrelli@classicmodelcars.com         Boston\n",
       "3     Steve  Patterson  spatterson@classicmodelcars.com         Boston\n",
       "4  Foon Yue      Tseng      ftseng@classicmodelcars.com            NYC"
      ]
     },
     "execution_count": 10,
     "metadata": {},
     "output_type": "execute_result"
    }
   ],
   "source": [
    "df.head()"
   ]
  },
  {
   "cell_type": "markdown",
   "metadata": {},
   "source": [
    "In the above cases the `JOIN` does not increase the number of records at all.This shows the One To one Relationship in that the records do not increase or decrease"
   ]
  },
  {
   "cell_type": "markdown",
   "metadata": {},
   "source": [
    "## One To Many Relationship"
   ]
  },
  {
   "cell_type": "code",
   "execution_count": 11,
   "metadata": {},
   "outputs": [
    {
     "name": "stdout",
     "output_type": "stream",
     "text": [
      "Number of results: 7\n"
     ]
    }
   ],
   "source": [
    "q = \"\"\"\n",
    "SELECT productLine, textDescription\n",
    "FROM productlines\n",
    ";\n",
    "\"\"\"\n",
    "df = pd.read_sql(q, conn)\n",
    "print(\"Number of results:\", len(df))"
   ]
  },
  {
   "cell_type": "markdown",
   "metadata": {},
   "source": [
    "Joining with Products"
   ]
  },
  {
   "cell_type": "code",
   "execution_count": 13,
   "metadata": {},
   "outputs": [
    {
     "name": "stdout",
     "output_type": "stream",
     "text": [
      "Number of results: 110\n"
     ]
    }
   ],
   "source": [
    "q = \"\"\" \n",
    "SELECT productLine,textDescription,productVendor, productDescription\n",
    "FROM productlines\n",
    "    JOIN products\n",
    "    USING(productLine);\n",
    "\"\"\"\n",
    "df = pd.read_sql(q, conn)\n",
    "print(\"Number of results:\", len(df))"
   ]
  },
  {
   "cell_type": "code",
   "execution_count": 14,
   "metadata": {},
   "outputs": [
    {
     "data": {
      "text/html": [
       "<div>\n",
       "<style scoped>\n",
       "    .dataframe tbody tr th:only-of-type {\n",
       "        vertical-align: middle;\n",
       "    }\n",
       "\n",
       "    .dataframe tbody tr th {\n",
       "        vertical-align: top;\n",
       "    }\n",
       "\n",
       "    .dataframe thead th {\n",
       "        text-align: right;\n",
       "    }\n",
       "</style>\n",
       "<table border=\"1\" class=\"dataframe\">\n",
       "  <thead>\n",
       "    <tr style=\"text-align: right;\">\n",
       "      <th></th>\n",
       "      <th>productLine</th>\n",
       "      <th>textDescription</th>\n",
       "      <th>productVendor</th>\n",
       "      <th>productDescription</th>\n",
       "    </tr>\n",
       "  </thead>\n",
       "  <tbody>\n",
       "    <tr>\n",
       "      <th>0</th>\n",
       "      <td>Classic Cars</td>\n",
       "      <td>Attention car enthusiasts: Make your wildest c...</td>\n",
       "      <td>Autoart Studio Design</td>\n",
       "      <td>Hood, doors and trunk all open to reveal highl...</td>\n",
       "    </tr>\n",
       "    <tr>\n",
       "      <th>1</th>\n",
       "      <td>Classic Cars</td>\n",
       "      <td>Attention car enthusiasts: Make your wildest c...</td>\n",
       "      <td>Carousel DieCast Legends</td>\n",
       "      <td>Features include opening and closing doors. Co...</td>\n",
       "    </tr>\n",
       "    <tr>\n",
       "      <th>2</th>\n",
       "      <td>Classic Cars</td>\n",
       "      <td>Attention car enthusiasts: Make your wildest c...</td>\n",
       "      <td>Carousel DieCast Legends</td>\n",
       "      <td>The operating parts of this 1958 Chevy Corvett...</td>\n",
       "    </tr>\n",
       "    <tr>\n",
       "      <th>3</th>\n",
       "      <td>Classic Cars</td>\n",
       "      <td>Attention car enthusiasts: Make your wildest c...</td>\n",
       "      <td>Carousel DieCast Legends</td>\n",
       "      <td>This diecast model of the 1966 Shelby Cobra 42...</td>\n",
       "    </tr>\n",
       "    <tr>\n",
       "      <th>4</th>\n",
       "      <td>Classic Cars</td>\n",
       "      <td>Attention car enthusiasts: Make your wildest c...</td>\n",
       "      <td>Classic Metal Creations</td>\n",
       "      <td>1957 die cast Corvette Convertible in Roman Re...</td>\n",
       "    </tr>\n",
       "  </tbody>\n",
       "</table>\n",
       "</div>"
      ],
      "text/plain": [
       "    productLine                                    textDescription  \\\n",
       "0  Classic Cars  Attention car enthusiasts: Make your wildest c...   \n",
       "1  Classic Cars  Attention car enthusiasts: Make your wildest c...   \n",
       "2  Classic Cars  Attention car enthusiasts: Make your wildest c...   \n",
       "3  Classic Cars  Attention car enthusiasts: Make your wildest c...   \n",
       "4  Classic Cars  Attention car enthusiasts: Make your wildest c...   \n",
       "\n",
       "              productVendor                                 productDescription  \n",
       "0     Autoart Studio Design  Hood, doors and trunk all open to reveal highl...  \n",
       "1  Carousel DieCast Legends  Features include opening and closing doors. Co...  \n",
       "2  Carousel DieCast Legends  The operating parts of this 1958 Chevy Corvett...  \n",
       "3  Carousel DieCast Legends  This diecast model of the 1966 Shelby Cobra 42...  \n",
       "4   Classic Metal Creations  1957 die cast Corvette Convertible in Roman Re...  "
      ]
     },
     "execution_count": 14,
     "metadata": {},
     "output_type": "execute_result"
    }
   ],
   "source": [
    "df.head()"
   ]
  },
  {
   "cell_type": "markdown",
   "metadata": {},
   "source": [
    "In the above code we can see that the join is used to increase the 7 enties to 110 entries so showing the one to many relationship between the tables"
   ]
  },
  {
   "cell_type": "markdown",
   "metadata": {},
   "source": [
    "## Many to Many Relationships"
   ]
  },
  {
   "cell_type": "code",
   "execution_count": 15,
   "metadata": {},
   "outputs": [
    {
     "name": "stdout",
     "output_type": "stream",
     "text": [
      "Number of results: 7\n"
     ]
    }
   ],
   "source": [
    "q = \"\"\" \n",
    "SELECT * \n",
    "FROM offices;\n",
    "\"\"\"\n",
    "df = pd.read_sql(q, conn)\n",
    "print('Number of results:', len(df))"
   ]
  },
  {
   "cell_type": "code",
   "execution_count": 16,
   "metadata": {},
   "outputs": [
    {
     "name": "stdout",
     "output_type": "stream",
     "text": [
      "Number of results: 122\n"
     ]
    }
   ],
   "source": [
    "q = \"\"\"\n",
    "SELECT *\n",
    "FROM customers\n",
    ";\n",
    "\"\"\"\n",
    "\n",
    "df = pd.read_sql(q, conn)\n",
    "print('Number of results:', len(df))"
   ]
  },
  {
   "cell_type": "markdown",
   "metadata": {},
   "source": [
    "joining the Offices and The Customers"
   ]
  },
  {
   "cell_type": "code",
   "execution_count": 17,
   "metadata": {},
   "outputs": [
    {
     "name": "stdout",
     "output_type": "stream",
     "text": [
      "Number of results: 245\n"
     ]
    }
   ],
   "source": [
    "q= \"\"\" \n",
    "SELECT *\n",
    "FROM offices\n",
    "JOIN customers\n",
    "    USING(state)\n",
    "    ;\"\"\"\n",
    "df = pd.read_sql(q, conn)\n",
    "print('Number of results:', len(df))"
   ]
  },
  {
   "cell_type": "code",
   "execution_count": 18,
   "metadata": {},
   "outputs": [
    {
     "data": {
      "text/html": [
       "<div>\n",
       "<style scoped>\n",
       "    .dataframe tbody tr th:only-of-type {\n",
       "        vertical-align: middle;\n",
       "    }\n",
       "\n",
       "    .dataframe tbody tr th {\n",
       "        vertical-align: top;\n",
       "    }\n",
       "\n",
       "    .dataframe thead th {\n",
       "        text-align: right;\n",
       "    }\n",
       "</style>\n",
       "<table border=\"1\" class=\"dataframe\">\n",
       "  <thead>\n",
       "    <tr style=\"text-align: right;\">\n",
       "      <th></th>\n",
       "      <th>officeCode</th>\n",
       "      <th>city</th>\n",
       "      <th>phone</th>\n",
       "      <th>addressLine1</th>\n",
       "      <th>addressLine2</th>\n",
       "      <th>state</th>\n",
       "      <th>country</th>\n",
       "      <th>postalCode</th>\n",
       "      <th>territory</th>\n",
       "      <th>customerNumber</th>\n",
       "      <th>...</th>\n",
       "      <th>contactLastName</th>\n",
       "      <th>contactFirstName</th>\n",
       "      <th>phone</th>\n",
       "      <th>addressLine1</th>\n",
       "      <th>addressLine2</th>\n",
       "      <th>city</th>\n",
       "      <th>postalCode</th>\n",
       "      <th>country</th>\n",
       "      <th>salesRepEmployeeNumber</th>\n",
       "      <th>creditLimit</th>\n",
       "    </tr>\n",
       "  </thead>\n",
       "  <tbody>\n",
       "    <tr>\n",
       "      <th>0</th>\n",
       "      <td>1</td>\n",
       "      <td>San Francisco</td>\n",
       "      <td>+1 650 219 4782</td>\n",
       "      <td>100 Market Street</td>\n",
       "      <td>Suite 300</td>\n",
       "      <td>CA</td>\n",
       "      <td>USA</td>\n",
       "      <td>94080</td>\n",
       "      <td>NA</td>\n",
       "      <td>124</td>\n",
       "      <td>...</td>\n",
       "      <td>Nelson</td>\n",
       "      <td>Susan</td>\n",
       "      <td>4155551450</td>\n",
       "      <td>5677 Strong St.</td>\n",
       "      <td></td>\n",
       "      <td>San Rafael</td>\n",
       "      <td>97562</td>\n",
       "      <td>USA</td>\n",
       "      <td>1165</td>\n",
       "      <td>210500.00</td>\n",
       "    </tr>\n",
       "    <tr>\n",
       "      <th>1</th>\n",
       "      <td>1</td>\n",
       "      <td>San Francisco</td>\n",
       "      <td>+1 650 219 4782</td>\n",
       "      <td>100 Market Street</td>\n",
       "      <td>Suite 300</td>\n",
       "      <td>CA</td>\n",
       "      <td>USA</td>\n",
       "      <td>94080</td>\n",
       "      <td>NA</td>\n",
       "      <td>129</td>\n",
       "      <td>...</td>\n",
       "      <td>Murphy</td>\n",
       "      <td>Julie</td>\n",
       "      <td>6505555787</td>\n",
       "      <td>5557 North Pendale Street</td>\n",
       "      <td></td>\n",
       "      <td>San Francisco</td>\n",
       "      <td>94217</td>\n",
       "      <td>USA</td>\n",
       "      <td>1165</td>\n",
       "      <td>64600.00</td>\n",
       "    </tr>\n",
       "    <tr>\n",
       "      <th>2</th>\n",
       "      <td>1</td>\n",
       "      <td>San Francisco</td>\n",
       "      <td>+1 650 219 4782</td>\n",
       "      <td>100 Market Street</td>\n",
       "      <td>Suite 300</td>\n",
       "      <td>CA</td>\n",
       "      <td>USA</td>\n",
       "      <td>94080</td>\n",
       "      <td>NA</td>\n",
       "      <td>161</td>\n",
       "      <td>...</td>\n",
       "      <td>Hashimoto</td>\n",
       "      <td>Juri</td>\n",
       "      <td>6505556809</td>\n",
       "      <td>9408 Furth Circle</td>\n",
       "      <td></td>\n",
       "      <td>Burlingame</td>\n",
       "      <td>94217</td>\n",
       "      <td>USA</td>\n",
       "      <td>1165</td>\n",
       "      <td>84600.00</td>\n",
       "    </tr>\n",
       "    <tr>\n",
       "      <th>3</th>\n",
       "      <td>1</td>\n",
       "      <td>San Francisco</td>\n",
       "      <td>+1 650 219 4782</td>\n",
       "      <td>100 Market Street</td>\n",
       "      <td>Suite 300</td>\n",
       "      <td>CA</td>\n",
       "      <td>USA</td>\n",
       "      <td>94080</td>\n",
       "      <td>NA</td>\n",
       "      <td>205</td>\n",
       "      <td>...</td>\n",
       "      <td>Young</td>\n",
       "      <td>Julie</td>\n",
       "      <td>6265557265</td>\n",
       "      <td>78934 Hillside Dr.</td>\n",
       "      <td></td>\n",
       "      <td>Pasadena</td>\n",
       "      <td>90003</td>\n",
       "      <td>USA</td>\n",
       "      <td>1166</td>\n",
       "      <td>90700.00</td>\n",
       "    </tr>\n",
       "    <tr>\n",
       "      <th>4</th>\n",
       "      <td>1</td>\n",
       "      <td>San Francisco</td>\n",
       "      <td>+1 650 219 4782</td>\n",
       "      <td>100 Market Street</td>\n",
       "      <td>Suite 300</td>\n",
       "      <td>CA</td>\n",
       "      <td>USA</td>\n",
       "      <td>94080</td>\n",
       "      <td>NA</td>\n",
       "      <td>219</td>\n",
       "      <td>...</td>\n",
       "      <td>Young</td>\n",
       "      <td>Mary</td>\n",
       "      <td>3105552373</td>\n",
       "      <td>4097 Douglas Av.</td>\n",
       "      <td></td>\n",
       "      <td>Glendale</td>\n",
       "      <td>92561</td>\n",
       "      <td>USA</td>\n",
       "      <td>1166</td>\n",
       "      <td>11000.00</td>\n",
       "    </tr>\n",
       "  </tbody>\n",
       "</table>\n",
       "<p>5 rows × 21 columns</p>\n",
       "</div>"
      ],
      "text/plain": [
       "  officeCode           city            phone       addressLine1 addressLine2  \\\n",
       "0          1  San Francisco  +1 650 219 4782  100 Market Street    Suite 300   \n",
       "1          1  San Francisco  +1 650 219 4782  100 Market Street    Suite 300   \n",
       "2          1  San Francisco  +1 650 219 4782  100 Market Street    Suite 300   \n",
       "3          1  San Francisco  +1 650 219 4782  100 Market Street    Suite 300   \n",
       "4          1  San Francisco  +1 650 219 4782  100 Market Street    Suite 300   \n",
       "\n",
       "  state country postalCode territory customerNumber  ... contactLastName  \\\n",
       "0    CA     USA      94080        NA            124  ...          Nelson   \n",
       "1    CA     USA      94080        NA            129  ...          Murphy   \n",
       "2    CA     USA      94080        NA            161  ...       Hashimoto   \n",
       "3    CA     USA      94080        NA            205  ...           Young   \n",
       "4    CA     USA      94080        NA            219  ...           Young   \n",
       "\n",
       "  contactFirstName       phone               addressLine1 addressLine2  \\\n",
       "0            Susan  4155551450            5677 Strong St.                \n",
       "1            Julie  6505555787  5557 North Pendale Street                \n",
       "2             Juri  6505556809          9408 Furth Circle                \n",
       "3            Julie  6265557265         78934 Hillside Dr.                \n",
       "4             Mary  3105552373           4097 Douglas Av.                \n",
       "\n",
       "            city postalCode country salesRepEmployeeNumber creditLimit  \n",
       "0     San Rafael      97562     USA                   1165   210500.00  \n",
       "1  San Francisco      94217     USA                   1165    64600.00  \n",
       "2     Burlingame      94217     USA                   1165    84600.00  \n",
       "3       Pasadena      90003     USA                   1166    90700.00  \n",
       "4       Glendale      92561     USA                   1166    11000.00  \n",
       "\n",
       "[5 rows x 21 columns]"
      ]
     },
     "execution_count": 18,
     "metadata": {},
     "output_type": "execute_result"
    }
   ],
   "source": [
    "df.head()"
   ]
  },
  {
   "cell_type": "markdown",
   "metadata": {},
   "source": [
    "Whenever you write a SQL query, make sure you understand the unit of analysis you are trying to use. Getting more data from the database is not always better! The above query might make sense as a starting point for something like \"what is the ratio of customers to offices in each state\", but it's not there yet. Many-to-many joins can be useful, but it's important to be strategic and understand what you're really asking for."
   ]
  },
  {
   "cell_type": "code",
   "execution_count": null,
   "metadata": {},
   "outputs": [],
   "source": []
  }
 ],
 "metadata": {
  "kernelspec": {
   "display_name": "learn-env",
   "language": "python",
   "name": "python3"
  },
  "language_info": {
   "codemirror_mode": {
    "name": "ipython",
    "version": 3
   },
   "file_extension": ".py",
   "mimetype": "text/x-python",
   "name": "python",
   "nbconvert_exporter": "python",
   "pygments_lexer": "ipython3",
   "version": "3.8.5"
  },
  "orig_nbformat": 4
 },
 "nbformat": 4,
 "nbformat_minor": 2
}
